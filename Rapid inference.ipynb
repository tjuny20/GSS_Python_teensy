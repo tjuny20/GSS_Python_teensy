{
 "cells": [
  {
   "cell_type": "code",
   "id": "initial_id",
   "metadata": {
    "collapsed": true,
    "ExecuteTime": {
     "end_time": "2025-09-29T15:32:12.317766Z",
     "start_time": "2025-09-29T15:32:09.246150Z"
    }
   },
   "source": [
    "import numpy as np\n",
    "import pickle\n",
    "import csv\n",
    "import torch\n",
    "from torch.linalg import inv, eig, pinv\n",
    "from matplotlib import pyplot as plt\n",
    "from tools import whiten, adap_whitening, adap_whitening_2\n",
    "from sklearn import svm, metrics\n",
    "from sklearn.decomposition import PCA\n",
    "from datetime import datetime\n",
    "import sklearn\n",
    "import pickle\n",
    "from scipy.ndimage import gaussian_filter1d\n",
    "from tools import load, split, estimate_derivative, plot_two_intervals"
   ],
   "outputs": [],
   "execution_count": 2
  },
  {
   "metadata": {
    "ExecuteTime": {
     "end_time": "2025-09-29T15:32:12.321316Z",
     "start_time": "2025-09-29T15:32:12.318713Z"
    }
   },
   "cell_type": "code",
   "source": [
    "from matplotlib.colors import ListedColormap\n",
    "plt.rcParams.update({\n",
    "    \"font.size\": 10,\n",
    "    \"axes.labelsize\": 10,\n",
    "    \"axes.titlesize\": 14,\n",
    "    \"legend.fontsize\": 10,\n",
    "    \"font.family\": \"Helvetica\",\n",
    "})\n",
    "\n",
    "palette = ['#405cca', '#c23232', '#269f30', '#1d1d1d']\n",
    "cmap = ListedColormap(palette, name='custom')\n",
    "\n",
    "rng = np.random.default_rng(42)  # for reproducibility"
   ],
   "id": "427770e7519c805d",
   "outputs": [],
   "execution_count": 3
  },
  {
   "metadata": {},
   "cell_type": "code",
   "outputs": [],
   "execution_count": null,
   "source": [
    "n_hd = 10000\n",
    "n_out = 3\n",
    "k = 15\n",
    "p = 0.5\n",
    "n_train = 225\n",
    "\n",
    "\n",
    "x_dense = sensor_data\n",
    "n_dense = x_dense.shape[1]\n",
    "\n",
    "labels = np.zeros_like(times_sec)\n",
    "for i, t in enumerate(sequence_sec[:n_train]):\n",
    "    try:\n",
    "        flag = (times_sec > sequence_sec[i]) & (times_sec < sequence_sec[i+1])\n",
    "    except IndexError:\n",
    "        flag = (times_sec > sequence_sec[i])\n",
    "    labels[flag] = int(sequence[i][1])\n",
    "\n",
    "idx_last_flag = np.where(labels != 0)[0][-1]\n",
    "\n",
    "W_hd = np.random.binomial(n=1, p=0.05, size=(n_hd, n_dense))  #Test random sparse weights\n",
    "x_hd = x_dense @ W_hd.T\n",
    "z_hd = np.where(np.argsort(x_hd)<k, 1., 0)\n",
    "W_out = np.zeros((n_out, n_hd))\n",
    "W = np.zeros((n_out, n_hd))\n",
    "\n",
    "z_out_train = np.zeros((z_hd.shape[0],  n_out))\n",
    "for i, row in enumerate(z_hd[:idx_last_flag]):\n",
    "    if labels[i] != 0:\n",
    "        active_idx = np.flatnonzero(row)\n",
    "        to_flip = active_idx[rng.random(active_idx.size) < p]     # Bernoulli(p) per active index# indices where z_hd==1\n",
    "        W_out[int(labels[i])-1, to_flip] = 1./k\n",
    "\n",
    "\n",
    "    out = row @ W_out.T\n",
    "    z_out_train[i] = out\n",
    "\n",
    "z_out_acc = np.zeros((z_hd.shape[0],  n_out))\n",
    "for i, row in enumerate(z_hd):\n",
    "    out = row @ W_out.T\n",
    "    z_out_acc[i] = out\n",
    "\n",
    "z_wta = np.where(np.argsort(z_out_acc, axis=1)<1, 1., 0)\n",
    "\n",
    "z_pred = np.zeros_like(sequence_sec)\n",
    "z_true = np.zeros_like(sequence_sec)\n",
    "for i, t in enumerate(sequence_sec):\n",
    "    try:\n",
    "        flag = (times_sec > sequence_sec[i]) & (times_sec < sequence_sec[i+1])\n",
    "    except IndexError:\n",
    "        flag = (times_sec > sequence_sec[i])\n",
    "    z_pred[i] = np.argsort(np.sum(z_out_acc[flag], axis=0))[-1] + 1\n",
    "    z_true[i] = sequence[i][1]\n",
    "\n",
    "train_acc = sklearn.metrics.accuracy_score(z_true[:n_train], z_pred[:n_train])\n",
    "test_acc = sklearn.metrics.accuracy_score(z_true[n_train:], z_pred[n_train:])\n",
    "\n",
    "print(f'k: {k}, p: {p}')\n",
    "print(f'Train accuracy: {train_acc:.4f}, Test accuracy: {test_acc:.4f}')\n",
    "\n",
    "z_out = np.empty((z_hd.shape[0],  n_out))\n",
    "z_out[:idx_last_flag] = z_out_train[:idx_last_flag]\n",
    "z_out[idx_last_flag:] = z_out_acc[idx_last_flag:]"
   ],
   "id": "b510febff335c2e7"
  }
 ],
 "metadata": {
  "kernelspec": {
   "display_name": "Python 3",
   "language": "python",
   "name": "python3"
  },
  "language_info": {
   "codemirror_mode": {
    "name": "ipython",
    "version": 2
   },
   "file_extension": ".py",
   "mimetype": "text/x-python",
   "name": "python",
   "nbconvert_exporter": "python",
   "pygments_lexer": "ipython2",
   "version": "2.7.6"
  }
 },
 "nbformat": 4,
 "nbformat_minor": 5
}
