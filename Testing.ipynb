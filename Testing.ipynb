{
 "cells": [
  {
   "cell_type": "code",
   "id": "initial_id",
   "metadata": {
    "collapsed": true,
    "ExecuteTime": {
     "end_time": "2025-02-19T10:57:32.062857Z",
     "start_time": "2025-02-19T10:57:32.024378Z"
    }
   },
   "source": "from highspeed10 import SerialCommunication",
   "outputs": [],
   "execution_count": 1
  },
  {
   "metadata": {
    "ExecuteTime": {
     "end_time": "2025-02-19T10:57:42.649519Z",
     "start_time": "2025-02-19T10:57:32.604191Z"
    }
   },
   "cell_type": "code",
   "source": [
    "# Serial port configuration\n",
    "PORT = \"/dev/ttyACM0\"  # Replace with your Teensy's serial port\n",
    "BAUDRATE = 115200  # Match the baud rate used in the Teensy program\n",
    "PACKET_SIZE = 128  # Size of each data packet (bytes)\n",
    "DURATION = 10  # 5 minutes in seconds\n",
    "FREQUENCY = 100  # Packets per second\n",
    "\n",
    "dac1_value = 800\n",
    "dac2_value = 200\n",
    "freq_value = FREQUENCY\n",
    "\n",
    "serial_comm = SerialCommunication(PORT, BAUDRATE)\n",
    "\n",
    "message = f\"{dac1_value},{dac2_value},{freq_value}\\n\"\n",
    "serial_comm.send_message(message)\n",
    "\n",
    "if serial_comm.is_running:\n",
    "    print(\"Data recording is already running.\")\n",
    "serial_comm.is_running = True\n",
    "\n",
    "data = []\n",
    "for read in serial_comm.stream_data(DURATION, save_csv=False):\n",
    "    data.append(read)"
   ],
   "id": "da48ab700db3047f",
   "outputs": [
    {
     "name": "stdout",
     "output_type": "stream",
     "text": [
      "Sent to Teensy: 800,200,100\n"
     ]
    }
   ],
   "execution_count": 2
  },
  {
   "metadata": {
    "ExecuteTime": {
     "end_time": "2025-02-19T10:54:34.395710Z",
     "start_time": "2025-02-19T10:54:34.386812Z"
    }
   },
   "cell_type": "code",
   "source": "data[0]",
   "id": "e06d9cfaa5934cad",
   "outputs": [
    {
     "data": {
      "text/plain": [
       "('2025-02-19 11:32:43.525406',\n",
       " [68,\n",
       "  0,\n",
       "  68,\n",
       "  0,\n",
       "  18,\n",
       "  0,\n",
       "  18,\n",
       "  0,\n",
       "  68,\n",
       "  0,\n",
       "  68,\n",
       "  0,\n",
       "  18,\n",
       "  0,\n",
       "  0,\n",
       "  0,\n",
       "  0,\n",
       "  0,\n",
       "  0,\n",
       "  0,\n",
       "  0,\n",
       "  0,\n",
       "  0,\n",
       "  0,\n",
       "  0,\n",
       "  0,\n",
       "  0,\n",
       "  0,\n",
       "  0,\n",
       "  0,\n",
       "  18,\n",
       "  0,\n",
       "  232,\n",
       "  3,\n",
       "  0,\n",
       "  0,\n",
       "  208,\n",
       "  7,\n",
       "  0,\n",
       "  0,\n",
       "  184,\n",
       "  11,\n",
       "  0,\n",
       "  0,\n",
       "  160,\n",
       "  15,\n",
       "  0,\n",
       "  0,\n",
       "  0,\n",
       "  0,\n",
       "  0,\n",
       "  0,\n",
       "  0,\n",
       "  0,\n",
       "  0,\n",
       "  0,\n",
       "  0,\n",
       "  0,\n",
       "  0,\n",
       "  0,\n",
       "  0,\n",
       "  0,\n",
       "  0,\n",
       "  0,\n",
       "  0,\n",
       "  0,\n",
       "  0,\n",
       "  0,\n",
       "  0,\n",
       "  0,\n",
       "  0,\n",
       "  0,\n",
       "  0,\n",
       "  0,\n",
       "  0,\n",
       "  0,\n",
       "  0,\n",
       "  0,\n",
       "  0,\n",
       "  0,\n",
       "  0,\n",
       "  0,\n",
       "  0,\n",
       "  0,\n",
       "  0,\n",
       "  0,\n",
       "  0,\n",
       "  0,\n",
       "  0,\n",
       "  0,\n",
       "  0,\n",
       "  0,\n",
       "  0,\n",
       "  0,\n",
       "  0,\n",
       "  0,\n",
       "  0,\n",
       "  0,\n",
       "  0,\n",
       "  0,\n",
       "  0,\n",
       "  0,\n",
       "  0,\n",
       "  0,\n",
       "  0,\n",
       "  0,\n",
       "  0,\n",
       "  0,\n",
       "  0,\n",
       "  0,\n",
       "  0,\n",
       "  0,\n",
       "  0,\n",
       "  0,\n",
       "  0,\n",
       "  0,\n",
       "  0,\n",
       "  0,\n",
       "  0,\n",
       "  0,\n",
       "  0,\n",
       "  0,\n",
       "  0,\n",
       "  0,\n",
       "  0,\n",
       "  0,\n",
       "  0,\n",
       "  5])"
      ]
     },
     "execution_count": 31,
     "metadata": {},
     "output_type": "execute_result"
    }
   ],
   "execution_count": 31
  },
  {
   "metadata": {},
   "cell_type": "code",
   "outputs": [],
   "execution_count": null,
   "source": "",
   "id": "32e1d0b48aa29bfc"
  }
 ],
 "metadata": {
  "kernelspec": {
   "display_name": "Python 3",
   "language": "python",
   "name": "python3"
  },
  "language_info": {
   "codemirror_mode": {
    "name": "ipython",
    "version": 2
   },
   "file_extension": ".py",
   "mimetype": "text/x-python",
   "name": "python",
   "nbconvert_exporter": "python",
   "pygments_lexer": "ipython2",
   "version": "2.7.6"
  }
 },
 "nbformat": 4,
 "nbformat_minor": 5
}
